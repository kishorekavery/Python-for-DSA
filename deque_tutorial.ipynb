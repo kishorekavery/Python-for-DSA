{
 "cells": [
  {
   "cell_type": "markdown",
   "id": "999a96c5",
   "metadata": {},
   "source": [
    "<h1> Deque from collection </h1>"
   ]
  },
  {
   "cell_type": "markdown",
   "id": "466799b0",
   "metadata": {},
   "source": [
    "Deque has a capability of the adding , deleting and extending the list like object in both end like stack."
   ]
  },
  {
   "cell_type": "code",
   "execution_count": 9,
   "id": "1de81f72",
   "metadata": {},
   "outputs": [
    {
     "name": "stdout",
     "output_type": "stream",
     "text": [
      "deque([10, 20, 30, 40, 50])\n"
     ]
    }
   ],
   "source": [
    "#deque \n",
    "\n",
    "from collections import deque\n",
    "\n",
    "l1 = [10,20,30,40,50]\n",
    "\n",
    "deq = deque(l1) # convert the list into deque\n",
    "\n",
    "print(deq)"
   ]
  },
  {
   "cell_type": "markdown",
   "id": "a6c3241d",
   "metadata": {},
   "source": [
    "#### Accessing deque in O(1)"
   ]
  },
  {
   "cell_type": "code",
   "execution_count": 10,
   "id": "26db5ac6",
   "metadata": {},
   "outputs": [
    {
     "name": "stdout",
     "output_type": "stream",
     "text": [
      "deque([10, 20, 30, 40, 50, 60])\n"
     ]
    }
   ],
   "source": [
    "deq.append(60)\n",
    "\n",
    "print(deq)\n"
   ]
  },
  {
   "cell_type": "code",
   "execution_count": 11,
   "id": "3a801b58",
   "metadata": {},
   "outputs": [
    {
     "name": "stdout",
     "output_type": "stream",
     "text": [
      "deque([5, 10, 20, 30, 40, 50, 60])\n"
     ]
    }
   ],
   "source": [
    "deq.appendleft(5)\n",
    "\n",
    "print(deq)"
   ]
  },
  {
   "cell_type": "code",
   "execution_count": 13,
   "id": "951bbbc1",
   "metadata": {},
   "outputs": [
    {
     "name": "stdout",
     "output_type": "stream",
     "text": [
      "deque([5, 10, 20, 30, 40, 50])\n"
     ]
    }
   ],
   "source": [
    "deq.pop()\n",
    "\n",
    "print(deq)"
   ]
  },
  {
   "cell_type": "code",
   "execution_count": 14,
   "id": "e1ad532a",
   "metadata": {},
   "outputs": [
    {
     "name": "stdout",
     "output_type": "stream",
     "text": [
      "deque([10, 20, 30, 40, 50])\n"
     ]
    }
   ],
   "source": [
    "deq.popleft()\n",
    "print(deq)"
   ]
  },
  {
   "cell_type": "code",
   "execution_count": null,
   "id": "62544359",
   "metadata": {},
   "outputs": [
    {
     "name": "stdout",
     "output_type": "stream",
     "text": [
      "deque([10, 20, 30, 40, 50, 15, 60])\n"
     ]
    }
   ],
   "source": [
    "deq.extend([15,60])\n",
    "print(deq)"
   ]
  },
  {
   "cell_type": "code",
   "execution_count": 17,
   "id": "fb3eb6e4",
   "metadata": {},
   "outputs": [
    {
     "name": "stdout",
     "output_type": "stream",
     "text": [
      "deque([8, 3, 10, 20, 30, 40, 50, 15, 60])\n"
     ]
    }
   ],
   "source": [
    "deq.extendleft([3,8])\n",
    "print(deq)"
   ]
  },
  {
   "cell_type": "code",
   "execution_count": 20,
   "id": "a6ae5851",
   "metadata": {},
   "outputs": [
    {
     "data": {
      "text/plain": [
       "1"
      ]
     },
     "execution_count": 20,
     "metadata": {},
     "output_type": "execute_result"
    }
   ],
   "source": [
    "deq.count(40) # counting values"
   ]
  },
  {
   "cell_type": "code",
   "execution_count": null,
   "id": "89570793",
   "metadata": {},
   "outputs": [
    {
     "name": "stdout",
     "output_type": "stream",
     "text": [
      "deque([8, 3, 5, 3, 10, 20, 30, 40, 50, 15, 60])\n"
     ]
    }
   ],
   "source": [
    "deq.insert(2,5) # appending in the second index\n",
    "print(deq)"
   ]
  },
  {
   "cell_type": "code",
   "execution_count": 27,
   "id": "26531423",
   "metadata": {},
   "outputs": [
    {
     "data": {
      "text/plain": [
       "deque([3, 5, 3, 10, 20, 30, 40, 50, 15, 60, 8])"
      ]
     },
     "execution_count": 27,
     "metadata": {},
     "output_type": "execute_result"
    }
   ],
   "source": [
    "deq.rotate(5)\n",
    "deq"
   ]
  },
  {
   "cell_type": "code",
   "execution_count": 28,
   "id": "d55b94f4",
   "metadata": {},
   "outputs": [
    {
     "data": {
      "text/plain": [
       "4"
      ]
     },
     "execution_count": 28,
     "metadata": {},
     "output_type": "execute_result"
    }
   ],
   "source": [
    "deq.index(20)"
   ]
  },
  {
   "cell_type": "code",
   "execution_count": 31,
   "id": "c89a46d9",
   "metadata": {},
   "outputs": [],
   "source": [
    "deq.clear()"
   ]
  },
  {
   "cell_type": "code",
   "execution_count": 32,
   "id": "b09a6727",
   "metadata": {},
   "outputs": [
    {
     "data": {
      "text/plain": [
       "deque([])"
      ]
     },
     "execution_count": 32,
     "metadata": {},
     "output_type": "execute_result"
    }
   ],
   "source": [
    "deq"
   ]
  }
 ],
 "metadata": {
  "kernelspec": {
   "display_name": "Python 3",
   "language": "python",
   "name": "python3"
  },
  "language_info": {
   "codemirror_mode": {
    "name": "ipython",
    "version": 3
   },
   "file_extension": ".py",
   "mimetype": "text/x-python",
   "name": "python",
   "nbconvert_exporter": "python",
   "pygments_lexer": "ipython3",
   "version": "3.12.7"
  }
 },
 "nbformat": 4,
 "nbformat_minor": 5
}
