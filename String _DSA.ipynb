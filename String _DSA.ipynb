{
 "cells": [
  {
   "cell_type": "code",
   "execution_count": 12,
   "id": "7e74e64b",
   "metadata": {},
   "outputs": [
    {
     "data": {
      "text/plain": [
       "True"
      ]
     },
     "execution_count": 12,
     "metadata": {},
     "output_type": "execute_result"
    }
   ],
   "source": [
    "# isomorphic string check\n",
    "from collections import Counter\n",
    "\n",
    "def isomorphic(s, t):\n",
    "    if len(s) != len(t):\n",
    "        return False\n",
    "\n",
    "    s_map = {}\n",
    "    t_map = {}\n",
    "\n",
    "    for sc, tc in zip(s, t):\n",
    "        if s_map.get(sc, tc) != tc or t_map.get(tc, sc) != sc:\n",
    "            return False\n",
    "        s_map[sc] = tc\n",
    "        t_map[tc] = sc\n",
    "\n",
    "    return True\n",
    "\n",
    "isomorphic('egg','add')"
   ]
  },
  {
   "cell_type": "code",
   "execution_count": null,
   "id": "40c6ffc8",
   "metadata": {},
   "outputs": [],
   "source": []
  }
 ],
 "metadata": {
  "kernelspec": {
   "display_name": "Python 3",
   "language": "python",
   "name": "python3"
  },
  "language_info": {
   "codemirror_mode": {
    "name": "ipython",
    "version": 3
   },
   "file_extension": ".py",
   "mimetype": "text/x-python",
   "name": "python",
   "nbconvert_exporter": "python",
   "pygments_lexer": "ipython3",
   "version": "3.12.7"
  }
 },
 "nbformat": 4,
 "nbformat_minor": 5
}
