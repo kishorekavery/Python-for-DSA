{
 "cells": [
  {
   "cell_type": "code",
   "execution_count": 1,
   "id": "30394b41",
   "metadata": {},
   "outputs": [],
   "source": [
    "# Lets get start with re libraries end to end uses"
   ]
  },
  {
   "cell_type": "code",
   "execution_count": null,
   "id": "ec814714",
   "metadata": {},
   "outputs": [
    {
     "data": {
      "text/plain": [
       "<re.Match object; span=(0, 1), match='1'>"
      ]
     },
     "execution_count": 12,
     "metadata": {},
     "output_type": "execute_result"
    }
   ],
   "source": [
    "#search numbers using re\n",
    "import re\n",
    "\n",
    "re.search(r\"\\d+\", \"abc123def\")  # Matches '123'\n"
   ]
  },
  {
   "cell_type": "code",
   "execution_count": 10,
   "id": "a2ddb8f1",
   "metadata": {},
   "outputs": [
    {
     "data": {
      "text/plain": [
       "<re.Match object; span=(0, 1), match='1'>"
      ]
     },
     "execution_count": 10,
     "metadata": {},
     "output_type": "execute_result"
    }
   ],
   "source": [
    "re.match(r\"\\d+\", \"1a123abc\")  # Matches '123'"
   ]
  },
  {
   "cell_type": "code",
   "execution_count": 6,
   "id": "e34dd26f",
   "metadata": {},
   "outputs": [
    {
     "name": "stdout",
     "output_type": "stream",
     "text": [
      "1:  None\n",
      "2:  <re.Match object; span=(0, 3), match='123'>\n"
     ]
    }
   ],
   "source": [
    "print(\"1: \",re.fullmatch(r\"\\d+\", \"123k\"))  # Matches '123'\n",
    "print(\"2: \",re.fullmatch(r\"\\d+\",\"123\"))"
   ]
  },
  {
   "cell_type": "code",
   "execution_count": 13,
   "id": "ae2e0c1f",
   "metadata": {},
   "outputs": [
    {
     "data": {
      "text/plain": [
       "['123', '456']"
      ]
     },
     "execution_count": 13,
     "metadata": {},
     "output_type": "execute_result"
    }
   ],
   "source": [
    "re.findall(r\"\\d+\", \"abc123def456\")  # ['123', '456']"
   ]
  },
  {
   "cell_type": "code",
   "execution_count": 14,
   "id": "5da75202",
   "metadata": {},
   "outputs": [
    {
     "name": "stdout",
     "output_type": "stream",
     "text": [
      "123\n",
      "456\n"
     ]
    }
   ],
   "source": [
    "for match in re.finditer(r\"\\d+\", \"abc123def456\"):\n",
    "    print(match.group())  # '123', then '456'"
   ]
  },
  {
   "cell_type": "code",
   "execution_count": 15,
   "id": "fd54780f",
   "metadata": {},
   "outputs": [
    {
     "data": {
      "text/plain": [
       "'abc#def#'"
      ]
     },
     "execution_count": 15,
     "metadata": {},
     "output_type": "execute_result"
    }
   ],
   "source": [
    "re.sub(r\"\\d+\", \"#\", \"abc123def456\")  # 'abc#def#'"
   ]
  },
  {
   "cell_type": "code",
   "execution_count": 16,
   "id": "a13b4077",
   "metadata": {},
   "outputs": [
    {
     "data": {
      "text/plain": [
       "('abc#def#', 2)"
      ]
     },
     "execution_count": 16,
     "metadata": {},
     "output_type": "execute_result"
    }
   ],
   "source": [
    "re.subn(r\"\\d+\", \"#\", \"abc123def456\")  # ('abc#def#', 2)"
   ]
  },
  {
   "cell_type": "code",
   "execution_count": 18,
   "id": "9710fc93",
   "metadata": {},
   "outputs": [
    {
     "data": {
      "text/plain": [
       "['a', 'b', 'c']"
      ]
     },
     "execution_count": 18,
     "metadata": {},
     "output_type": "execute_result"
    }
   ],
   "source": [
    "re.split(r\"\\s+\", \"a b       c\")  # ['a', 'b', 'c']"
   ]
  },
  {
   "cell_type": "code",
   "execution_count": 19,
   "id": "cd136d0c",
   "metadata": {},
   "outputs": [
    {
     "data": {
      "text/plain": [
       "['123', '456']"
      ]
     },
     "execution_count": 19,
     "metadata": {},
     "output_type": "execute_result"
    }
   ],
   "source": [
    "pattern = re.compile(r\"\\d+\")\n",
    "pattern.findall(\"abc123def456\")  # ['123', '456']"
   ]
  },
  {
   "cell_type": "code",
   "execution_count": 21,
   "id": "d360b1fc",
   "metadata": {},
   "outputs": [
    {
     "data": {
      "text/plain": [
       "('123', '456')"
      ]
     },
     "execution_count": 21,
     "metadata": {},
     "output_type": "execute_result"
    }
   ],
   "source": [
    "#group capturing\n",
    "re.search(r\"(\\d+)-(\\d+)\", \"123-456\").groups()  # ('123', '456')"
   ]
  },
  {
   "cell_type": "code",
   "execution_count": 22,
   "id": "4bb08bd9",
   "metadata": {},
   "outputs": [
    {
     "data": {
      "text/plain": [
       "{'area': '123', 'number': '456'}"
      ]
     },
     "execution_count": 22,
     "metadata": {},
     "output_type": "execute_result"
    }
   ],
   "source": [
    "re.search(r\"(?P<area>\\d+)-(?P<number>\\d+)\", \"123-456\").groupdict()\n",
    "# {'area': '123', 'number': '456'}"
   ]
  },
  {
   "cell_type": "code",
   "execution_count": 24,
   "id": "505cc5c0",
   "metadata": {},
   "outputs": [
    {
     "name": "stdout",
     "output_type": "stream",
     "text": [
      "<re.Match object; span=(0, 2), match='50'>\n",
      "<re.Match object; span=(1, 4), match='100'>\n"
     ]
    }
   ],
   "source": [
    "print(re.search(r\"\\d+(?=kg)\", \"50kg\"))  # Matches '50'\n",
    "print(re.search(r\"(?<=\\$)\\d+\", \"$100\"))  # Matches '100'"
   ]
  },
  {
   "cell_type": "code",
   "execution_count": 27,
   "id": "6c709fc8",
   "metadata": {},
   "outputs": [
    {
     "name": "stdout",
     "output_type": "stream",
     "text": [
      "<re.Match object; span=(0, 5), match='HELLO'>\n",
      "['a', 'a']\n"
     ]
    }
   ],
   "source": [
    "print(re.search(r\"hello\", \"HELLO\", re.IGNORECASE))  # Matches\n",
    "print(re.findall(r\"^a\", \"abc\\naaa\", re.MULTILINE))   # Matches 'a' at start of each line"
   ]
  },
  {
   "cell_type": "code",
   "execution_count": null,
   "id": "45ad3201",
   "metadata": {},
   "outputs": [],
   "source": []
  }
 ],
 "metadata": {
  "kernelspec": {
   "display_name": "Python 3",
   "language": "python",
   "name": "python3"
  },
  "language_info": {
   "codemirror_mode": {
    "name": "ipython",
    "version": 3
   },
   "file_extension": ".py",
   "mimetype": "text/x-python",
   "name": "python",
   "nbconvert_exporter": "python",
   "pygments_lexer": "ipython3",
   "version": "3.12.7"
  }
 },
 "nbformat": 4,
 "nbformat_minor": 5
}
